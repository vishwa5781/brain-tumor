{
 "cells": [
  {
   "cell_type": "code",
   "execution_count": 2,
   "metadata": {},
   "outputs": [],
   "source": [
    "import pandas as pd\n",
    "\n",
    "df = pd.read_csv('D:\\Studies\\Projects\\Curnew\\Question 4\\Qn3_Braintumor\\Brain Tumor.csv')"
   ]
  },
  {
   "cell_type": "code",
   "execution_count": 5,
   "metadata": {},
   "outputs": [],
   "source": [
    "tumor =[]\n",
    "normal = []\n",
    "df = df[['Image','Class']]"
   ]
  },
  {
   "cell_type": "code",
   "execution_count": 6,
   "metadata": {},
   "outputs": [],
   "source": [
    "for i in range(len(df)):\n",
    "    if df['Class'][i] == 1:\n",
    "        tumor.append(df['Image'][i])\n",
    "    else:\n",
    "        normal.append(df['Image'][i])"
   ]
  },
  {
   "cell_type": "code",
   "execution_count": 23,
   "metadata": {},
   "outputs": [],
   "source": [
    "import os\n",
    "import shutil\n",
    "\n",
    "path = \"D:\\Studies\\Projects\\Curnew\\Question 4\\Qn3_Braintumor\\Braintumor\"\n",
    "tum = \"D:\\Studies\\Projects\\Curnew\\Question 4\\Qn3_Braintumor\\Data\\Tumor\"\n",
    "# norm = \"D:\\Studies\\Projects\\Curnew\\Question 4\\Qn3_Braintumor\\Data\\Normal\"\n",
    "\n",
    "for i in range(len(tumor)):\n",
    "    im = path + \"\\\\\" + tumor[i] + \".jpg\"\n",
    "    shutil.move(im, tum)\n"
   ]
  },
  {
   "cell_type": "code",
   "execution_count": 29,
   "metadata": {},
   "outputs": [],
   "source": [
    "nom = r\"D:\\Studies\\Projects\\Curnew\\Question 4\\Qn3_Braintumor\\Data\\Normal\"\n",
    "for i in range(len(normal)):\n",
    "    im = path + \"\\\\\" + normal[i] + \".jpg\"\n",
    "    shutil.move(im, nom)"
   ]
  },
  {
   "cell_type": "code",
   "execution_count": 31,
   "metadata": {},
   "outputs": [],
   "source": [
    "from tensorflow.keras.layers import Conv2D, MaxPooling2D, Flatten, Dense, Dropout\n",
    "from tensorflow.keras.models import Sequential\n",
    "from tensorflow.keras.preprocessing.image import ImageDataGenerator\n"
   ]
  },
  {
   "cell_type": "code",
   "execution_count": 36,
   "metadata": {},
   "outputs": [
    {
     "name": "stdout",
     "output_type": "stream",
     "text": [
      "Found 3762 images belonging to 2 classes.\n",
      "Epoch 1/10\n",
      "100/100 [==============================] - 137s 1s/step - loss: 0.5490 - accuracy: 0.7044\n",
      "Epoch 2/10\n",
      "100/100 [==============================] - 123s 1s/step - loss: 0.4885 - accuracy: 0.7643\n",
      "Epoch 3/10\n",
      "100/100 [==============================] - 118s 1s/step - loss: 0.4438 - accuracy: 0.7966\n",
      "Epoch 4/10\n",
      "100/100 [==============================] - 97s 961ms/step - loss: 0.4235 - accuracy: 0.8145\n",
      "Epoch 5/10\n",
      "100/100 [==============================] - 94s 941ms/step - loss: 0.4238 - accuracy: 0.8038\n",
      "Epoch 6/10\n",
      "100/100 [==============================] - 103s 1s/step - loss: 0.4220 - accuracy: 0.8132\n",
      "Epoch 7/10\n",
      "100/100 [==============================] - 99s 991ms/step - loss: 0.3918 - accuracy: 0.8241\n",
      "Epoch 8/10\n",
      "100/100 [==============================] - 101s 1s/step - loss: 0.3780 - accuracy: 0.8352\n",
      "Epoch 9/10\n",
      "100/100 [==============================] - 94s 932ms/step - loss: 0.3846 - accuracy: 0.8297\n",
      "Epoch 10/10\n",
      "100/100 [==============================] - 95s 950ms/step - loss: 0.3638 - accuracy: 0.8427\n",
      "118/118 [==============================] - 48s 406ms/step - loss: 0.3880 - accuracy: 0.8246\n",
      "\n",
      "accuracy: 82.45614171028137%\n"
     ]
    }
   ],
   "source": [
    "DIR = r\"D:\\Studies\\Projects\\Curnew\\Question 4\\Qn3_Braintumor\\Data\"\n",
    "datagen = ImageDataGenerator(\n",
    "    rescale=1./255,\n",
    "    rotation_range=40,\n",
    "    width_shift_range=0.2,\n",
    "    height_shift_range=0.2,\n",
    "    shear_range=0.2,\n",
    "    zoom_range=0.2,\n",
    "    horizontal_flip=True,\n",
    "    fill_mode='nearest'\n",
    "    )\n",
    "\n",
    "generator = datagen.flow_from_directory(\n",
    "    DIR,\n",
    "    target_size=(150,150),\n",
    "    class_mode = 'binary')\n",
    "\n",
    "model = Sequential([\n",
    "    Conv2D(32,(3,3),activation='relu',input_shape=(150,150,3)),\n",
    "    MaxPooling2D(pool_size=(2,2)),\n",
    "    Conv2D(64,(3,3),activation='relu'),\n",
    "    MaxPooling2D(pool_size=(2,2)),\n",
    "    Conv2D(64,(3,3),activation='relu'),\n",
    "    MaxPooling2D(pool_size=(2,2)),\n",
    "    Flatten(),\n",
    "    Dropout(0.5),\n",
    "    Dense(128,activation='relu'),\n",
    "    Dense(1,activation='sigmoid')\n",
    "])\n",
    "\n",
    "model.compile(loss='binary_crossentropy',optimizer='adam',metrics=['accuracy'])\n",
    "model.fit(generator,epochs=20,steps_per_epoch=100)\n",
    "scores = model.evaluate(generator)\n",
    "print(f\"\\n{model.metrics_names[1]}: {scores[1]*100}%\")"
   ]
  }
 ],
 "metadata": {
  "interpreter": {
   "hash": "e8fc7bed452e5c02f8cd0db2271592b4741fec7df6b6aa6fdf860f93f4a2f7e4"
  },
  "kernelspec": {
   "display_name": "Python 3.8.7 64-bit",
   "language": "python",
   "name": "python3"
  },
  "language_info": {
   "codemirror_mode": {
    "name": "ipython",
    "version": 3
   },
   "file_extension": ".py",
   "mimetype": "text/x-python",
   "name": "python",
   "nbconvert_exporter": "python",
   "pygments_lexer": "ipython3",
   "version": "3.8.7"
  },
  "orig_nbformat": 4
 },
 "nbformat": 4,
 "nbformat_minor": 2
}
